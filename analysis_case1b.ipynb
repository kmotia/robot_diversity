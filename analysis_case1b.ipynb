{
 "cells": [
  {
   "cell_type": "code",
   "execution_count": null,
   "id": "0e9675b9",
   "metadata": {},
   "outputs": [],
   "source": [
    "import numpy as np\n",
    "import scipy.stats as stats\n",
    "import constants as c"
   ]
  },
  {
   "cell_type": "markdown",
   "id": "5237ba3a",
   "metadata": {},
   "source": [
    "# Define .txt file names"
   ]
  },
  {
   "cell_type": "code",
   "execution_count": null,
   "id": "079b2211",
   "metadata": {},
   "outputs": [],
   "source": [
    "case1_evolved_familiar = '10x75_55swarmsB/case1b_10x75/familiarFits_full.txt'   \n",
    "case2_evolved_familiar = '10x75_55swarmsB/case2_10x75/familiarFits.txt'\n",
    "case3_evolved_familiar = '10x75_55swarmsB/case3_10x75/familiarFits.txt'\n",
    "#-----------------------------------------------------------------------------------------\n",
    "case1_evolved_foreign = '10x75_55swarmsB/case1b_10x75/foreignFits.txt'\n",
    "case2_evolved_foreign = '10x75_55swarmsB/case2_10x75/foreignFits.txt'\n",
    "case3_evolved_foreign = '10x75_55swarmsB/case3_10x75/foreignFits.txt'\n",
    "#-----------------------------------------------------------------------------------------\n",
    "case1_random_familiar = '10x75_55swarmsB/case1b_1x0/familiarFits_full.txt'   \n",
    "case2_random_familiar = '10x75_55swarmsB/case2_1x0/familiarFits.txt'\n",
    "case3_random_familiar = '10x75_55swarmsB/case3_1x0/familiarFits.txt'\n",
    "#-----------------------------------------------------------------------------------------\n",
    "case1_random_foreign = '10x75_55swarmsB/case1b_1x0/foreignFits.txt'\n",
    "case2_random_foreign = '10x75_55swarmsB/case2_1x0/foreignFits.txt'\n",
    "case3_random_foreign = '10x75_55swarmsB/case3_1x0/foreignFits.txt'"
   ]
  },
  {
   "cell_type": "markdown",
   "id": "38e4633f",
   "metadata": {},
   "source": [
    "# Get list of swarm fitnesses for analysis"
   ]
  },
  {
   "cell_type": "code",
   "execution_count": null,
   "id": "a8cff9cd",
   "metadata": {},
   "outputs": [],
   "source": [
    "import numpy as np\n",
    "from itertools import islice\n",
    "\n",
    "def Get_Swarm_Fits(fitnessFile, botsPerSwarm, numLinesToRead=None):\n",
    "    '''\n",
    "    Parameters:\n",
    "        - fitnessFile: txt file where each line is a number\n",
    "        - botsPerSwarm: integer number of bots in each swarm\n",
    "        - numLinesToRead: optional parameter specifying the number of lines to read from the file\n",
    "\n",
    "    Returns:\n",
    "        - bestOfEachSwarm: list of fitnesses that are the best of every <c.botsPerSwarm> robots\n",
    "    '''\n",
    "    # read nums from the file\n",
    "    with open(fitnessFile, 'r') as file:\n",
    "        lines_to_read = file if numLinesToRead is None else islice(file, numLinesToRead)\n",
    "        numbers = [float(line.strip()) for line in lines_to_read]   \n",
    "    # transform data from (-)=more fit to (+)=more fit\n",
    "    numbers = [num*-1 for num in numbers]\n",
    "    # check if the length of the list is divisible by botsPerSwarm\n",
    "    if len(numbers) % botsPerSwarm != 0:\n",
    "        raise ValueError(\"Length of the list is not divisible by botsPerSwarm\")\n",
    "    # compute max of every <botsPerSwarm> lines\n",
    "    bestOfEachSwarm = [np.max(numbers[i:i+botsPerSwarm]) for i in range(0, len(numbers), botsPerSwarm)]\n",
    "    return bestOfEachSwarm"
   ]
  },
  {
   "cell_type": "code",
   "execution_count": null,
   "id": "ab137dd0",
   "metadata": {},
   "outputs": [],
   "source": [
    "# Define data\n",
    "#-----------------------------------------------------------------------------------------\n",
    "case1_evolved_familiar = Get_Swarm_Fits(case1_evolved_familiar, c.botsPerSwarm, 550)\n",
    "case2_evolved_familiar = Get_Swarm_Fits(case2_evolved_familiar, c.botsPerSwarm, 550)\n",
    "case3_evolved_familiar = Get_Swarm_Fits(case3_evolved_familiar, c.botsPerSwarm, 550)\n",
    "#-----------------------------------------------------------------------------------------\n",
    "case1_evolved_foreign = Get_Swarm_Fits(case1_evolved_foreign, c.botsPerSwarm, 550)\n",
    "case2_evolved_foreign = Get_Swarm_Fits(case2_evolved_foreign, c.botsPerSwarm, 550)\n",
    "case3_evolved_foreign = Get_Swarm_Fits(case3_evolved_foreign, c.botsPerSwarm, 550)\n",
    "#-----------------------------------------------------------------------------------------\n",
    "case1_random_familiar = Get_Swarm_Fits(case1_random_familiar, c.botsPerSwarm, 550)\n",
    "case2_random_familiar = Get_Swarm_Fits(case2_random_familiar, c.botsPerSwarm, 550)\n",
    "case3_random_familiar = Get_Swarm_Fits(case3_random_familiar, c.botsPerSwarm, 550)\n",
    "#-----------------------------------------------------------------------------------------\n",
    "case1_random_foreign = Get_Swarm_Fits(case1_random_foreign, c.botsPerSwarm, 550)\n",
    "case2_random_foreign = Get_Swarm_Fits(case2_random_foreign, c.botsPerSwarm, 550)\n",
    "case3_random_foreign = Get_Swarm_Fits(case3_random_foreign, c.botsPerSwarm, 550)"
   ]
  },
  {
   "cell_type": "markdown",
   "id": "5c67c5b7",
   "metadata": {},
   "source": [
    "# Perform Shapiro-Wilks test to determine if data is normally distributed"
   ]
  },
  {
   "cell_type": "code",
   "execution_count": null,
   "id": "3e1960df",
   "metadata": {},
   "outputs": [],
   "source": [
    "from scipy.stats import shapiro\n",
    "\n",
    "def Check_Normal_Distribution(data):\n",
    "    # Perform Shapiro-Wilk test\n",
    "    stat, p_value = shapiro(data)\n",
    "    # Check the p-value\n",
    "    alpha = 0.05                        # significance level\n",
    "    if p_value > alpha:\n",
    "        print(\"The data is normally distributed\")\n",
    "    else:\n",
    "        print(\"The data is not normally distributed\")\n"
   ]
  },
  {
   "cell_type": "code",
   "execution_count": null,
   "id": "986a2d85",
   "metadata": {},
   "outputs": [],
   "source": [
    "## Use function on each \"average swarm\" list\n",
    "\n",
    "## Check if case1 swarm fitnesses are normally distributed\n",
    "Check_Normal_Distribution(case1_evolved_foreign)\n",
    "Check_Normal_Distribution(case1_evolved_familiar)\n",
    "#-----------------------------------------------------------------------------------------\n",
    "## Check if case2 swarm fitnesses are normally distributed\n",
    "Check_Normal_Distribution(case2_evolved_foreign)\n",
    "Check_Normal_Distribution(case2_evolved_familiar)\n",
    "#-----------------------------------------------------------------------------------------\n",
    "## Check if case3 swarm fitnesses are normally distributed\n",
    "Check_Normal_Distribution(case3_evolved_foreign)\n",
    "Check_Normal_Distribution(case3_evolved_familiar)"
   ]
  },
  {
   "cell_type": "markdown",
   "id": "b24c39fd",
   "metadata": {},
   "source": [
    "# Perform Mann Whitney U Test"
   ]
  },
  {
   "cell_type": "code",
   "execution_count": null,
   "id": "b2cdb01d",
   "metadata": {},
   "outputs": [],
   "source": [
    "from scipy.stats import mannwhitneyu\n",
    "\n",
    "def mann_whitney_u_test(list1, list2, alpha=0.05):\n",
    "    \"\"\"\n",
    "    Perform Mann-Whitney U test to determine if there is a significant difference between two lists.\n",
    "\n",
    "    Parameters:\n",
    "        - list1: First list of values\n",
    "        - list2: Second list of values\n",
    "        - alpha: Significance level for the test (default is 0.05)\n",
    "\n",
    "    Returns:\n",
    "        - None\n",
    "    \"\"\"\n",
    "\n",
    "    # Perform Mann-Whitney U test\n",
    "    statistic, p_value = mannwhitneyu(list1, list2)\n",
    "\n",
    "    # Check if the result is significant\n",
    "    is_significant = p_value < alpha\n",
    "\n",
    "    # Print information\n",
    "    print(f\"t statistic: {statistic:.5f}, p-value: {p_value},  alpha: {alpha}, {'significant' if is_significant else 'not significant'}\")\n",
    "    return p_value"
   ]
  },
  {
   "cell_type": "markdown",
   "id": "5fd67608",
   "metadata": {},
   "source": [
    "# Perfom MW U Test on (all evolved foreign data)\n",
    "To determine which swarm does better when evolved and deployed to a cluttered environment"
   ]
  },
  {
   "cell_type": "code",
   "execution_count": null,
   "id": "d486e84a",
   "metadata": {},
   "outputs": [],
   "source": [
    "# print('----case1 vs case2----')\n",
    "# mann_whitney_u_test(case1_evolved_foreign, case2_evolved_foreign, 0.05/3)              Josh said we don't need this. We just care about how case3 does relative to others\n",
    "\n",
    "print('----case1 vs case3----')\n",
    "mann_whitney_u_test(case1_evolved_foreign, case3_evolved_foreign, 0.05/2)\n",
    "#-----------------------------------------------------------------------------------------\n",
    "print('----case2 vs case3----')\n",
    "mann_whitney_u_test(case2_evolved_foreign, case3_evolved_foreign, 0.05/2)\n",
    "#-----------------------------------------------------------------------------------------\n",
    "print('----case1 vs case2----')\n",
    "mann_whitney_u_test(case1_evolved_foreign, case2_evolved_foreign, 0.05/2)"
   ]
  },
  {
   "cell_type": "markdown",
   "id": "24129f30",
   "metadata": {},
   "source": [
    "# Perform MW U Test on (all evolved familiar data)\n",
    "To determine which swarm does better when evolved and deployed to an empty environment"
   ]
  },
  {
   "cell_type": "code",
   "execution_count": null,
   "id": "83c5af42",
   "metadata": {},
   "outputs": [],
   "source": [
    "# print('----case1 vs case2----')\n",
    "# mann_whitney_u_test(case1_evolved_familiar, case2_evolved_familiar, 0.05/3)\n",
    "#-----------------------------------------------------------------------------------------\n",
    "print('----case1 vs case3----')\n",
    "mann_whitney_u_test(case1_evolved_familiar, case3_evolved_familiar, 0.05/2)\n",
    "#-----------------------------------------------------------------------------------------\n",
    "print('----case2 vs case3----')\n",
    "mann_whitney_u_test(case2_evolved_familiar, case3_evolved_familiar, 0.05/2)"
   ]
  },
  {
   "cell_type": "markdown",
   "id": "e063fbe7",
   "metadata": {},
   "source": [
    "# Perfom MW U Test (evolved_foreign vs random_foreign)\n",
    "To show that bots were evolved enough that they do better than a random bot in the foreign environment"
   ]
  },
  {
   "cell_type": "code",
   "execution_count": null,
   "id": "81bf9539",
   "metadata": {},
   "outputs": [],
   "source": [
    "mann_whitney_u_test(case1_evolved_foreign, case1_random_foreign, 0.05)        # What should significance level be? 0.5?\n",
    "mann_whitney_u_test(case2_evolved_foreign, case2_random_foreign, 0.05)\n",
    "mann_whitney_u_test(case3_evolved_foreign, case3_random_foreign, 0.05)"
   ]
  },
  {
   "cell_type": "markdown",
   "id": "576fcc37",
   "metadata": {},
   "source": [
    "# Perform MW U Test (evolved_foreign vs evolved_familiar)\n",
    "To show that foreign environment is hard enough to pose a significant challenge relative to the familiar environment"
   ]
  },
  {
   "cell_type": "code",
   "execution_count": null,
   "id": "314b620b",
   "metadata": {},
   "outputs": [],
   "source": [
    "mann_whitney_u_test(case1_evolved_foreign, case1_evolved_familiar, 0.05)\n",
    "mann_whitney_u_test(case2_evolved_foreign, case2_evolved_familiar, 0.05)\n",
    "mann_whitney_u_test(case3_evolved_foreign, case3_evolved_familiar, 0.05)"
   ]
  },
  {
   "cell_type": "markdown",
   "id": "a9308a58",
   "metadata": {},
   "source": [
    "# Generate box plots"
   ]
  },
  {
   "cell_type": "code",
   "execution_count": null,
   "id": "ea90f0fc",
   "metadata": {},
   "outputs": [],
   "source": [
    "import matplotlib.pyplot as plt\n",
    "\n",
    "def side_by_side_box_plots(*lists, labels=None, colors=None, yaxis=(-4, 12)):\n",
    "    \"\"\"\n",
    "    Generate side-by-side box plots\n",
    "\n",
    "    Parameters:\n",
    "    - *lists: variable number of lists to plot.\n",
    "    - labels: pptional list of labels for each box plot.\n",
    "\n",
    "    Returns:\n",
    "    - None \n",
    "    \"\"\"\n",
    "    # check if labels are provided, otherwise use default labels\n",
    "    if labels is None:\n",
    "        labels = [f'Case {i+1}' for i in range(len(lists))]\n",
    "\n",
    "    # check if colors are provided, otherwise use default colors\n",
    "    if colors is None:\n",
    "        colors = ['black', 'black', 'black']\n",
    "\n",
    "    for i, data in enumerate(lists):\n",
    "        plt.boxplot(data, positions=[i+1], labels=[labels[i]], showmeans=True, meanline=True, meanprops=dict(linestyle='--', color='black', linewidth=1), medianprops=dict(linestyle='-', color='black'), \n",
    "                    boxprops=dict(color=colors[i]), whiskerprops=dict(color=colors[i]), flierprops=dict(marker='o', markersize=5, markeredgecolor=colors[i]),\n",
    "                    capprops=dict(color=colors[i]))\n",
    "\n",
    "    # Add labels and title\n",
    "    plt.tight_layout()\n",
    "    plt.ylim(yaxis)\n",
    "    plt.xlabel('')\n",
    "    plt.ylabel('Swarm Fitness', fontsize = '14')\n",
    "    plt.xticks(fontsize='11')\n",
    "    plt.yticks(fontsize='13')\n",
    "    plt.title('')\n",
    "\n",
    "    # Show the plot\n",
    "    plt.show()\n"
   ]
  },
  {
   "cell_type": "markdown",
   "id": "f900a74f",
   "metadata": {},
   "source": [
    "# Generate box plot (all evolved foreign data)"
   ]
  },
  {
   "cell_type": "code",
   "execution_count": null,
   "id": "b7a49d0c",
   "metadata": {},
   "outputs": [],
   "source": [
    "# Box plot for case1_evolved_foregin vs case2_evolved_foreign vs case3_evolved_foreign\n",
    "side_by_side_box_plots(case1_evolved_foreign,case2_evolved_foreign ,case3_evolved_foreign, labels=['No\\nDiversity', 'Neurological\\nDiversity', 'Neurological-Morphological\\nDiversity'],colors=['blue','red','green'], yaxis=(-2, 9))\n",
    "side_by_side_box_plots(case2_evolved_foreign ,case3_evolved_foreign, labels=['Neurological\\nDiversity', 'Neurological-Morphological\\nDiversity'],colors=['red','green'], yaxis=(2, 9))\n",
    "side_by_side_box_plots(case1_evolved_foreign ,case3_evolved_foreign, labels=['No\\nDiversity', 'Neurological-Morphological\\nDiversity'],colors=['blue','green'], yaxis=(-2, 9))"
   ]
  },
  {
   "cell_type": "markdown",
   "id": "5932214a",
   "metadata": {},
   "source": [
    "# Generate box plot (all evolved familiar data)\n",
    "To determine which swarm does best when evolved and deployed to an empty environment"
   ]
  },
  {
   "cell_type": "code",
   "execution_count": null,
   "id": "2d9bd3fa",
   "metadata": {},
   "outputs": [],
   "source": [
    "side_by_side_box_plots(case1_evolved_familiar,case2_evolved_familiar ,case3_evolved_familiar, labels=['No\\nDiversity', 'Neurological\\nDiversity', 'Neurological-Morphological\\nDiversity'], yaxis=(2, 13))"
   ]
  },
  {
   "cell_type": "markdown",
   "id": "49dfdf63",
   "metadata": {},
   "source": [
    "# Generate box plot (evolved_foreign vs random_foreign)"
   ]
  },
  {
   "cell_type": "code",
   "execution_count": null,
   "id": "7c458a22",
   "metadata": {},
   "outputs": [],
   "source": [
    "side_by_side_box_plots(case3_evolved_foreign,case3_random_foreign, labels=['Neurological-Morphological\\nDiversity\\n(Evolved)', 'Neurological-Morphological\\nDiversity\\n(Random)'], colors=['green', 'green'],yaxis= (-1, 9))\n",
    "side_by_side_box_plots(case2_evolved_foreign,case2_random_foreign, labels=['Neurological Diversity\\n(Evolved)', 'Neurological Diversity\\n(Random)'], colors=['red', 'red'], yaxis= (-1, 8))\n",
    "side_by_side_box_plots(case1_evolved_foreign,case1_random_foreign, labels=['No Diversity\\n(Evolved)', 'No Diversity\\n(Random)'], colors=['blue', 'blue'], yaxis= (-4, 7))\n",
    "\n",
    "\n",
    "\n"
   ]
  },
  {
   "cell_type": "markdown",
   "id": "9d3f25ec",
   "metadata": {},
   "source": [
    "# Generate box plot (evolved_foreign vs evolved_familiar)\n",
    "To show that environment provides significant challenge"
   ]
  },
  {
   "cell_type": "code",
   "execution_count": null,
   "id": "57fb28b3",
   "metadata": {},
   "outputs": [],
   "source": [
    "side_by_side_box_plots(case3_evolved_foreign,case3_evolved_familiar, labels=['Neurological-Morphological\\nDiversity\\n(Foreign)', 'Neurological-Morphological\\nDiversity\\n(Familiar)'], colors=['green', 'green'], yaxis= (2, 12))\n",
    "side_by_side_box_plots(case2_evolved_foreign,case2_evolved_familiar, labels=['Neurological Diversity\\n(Foreign)', 'Neurological Diversity\\n(Familiar)'], colors=['red', 'red'], yaxis= (2, 11))\n",
    "side_by_side_box_plots(case1_evolved_foreign,case1_evolved_familiar, labels=['No Diversity\\n(Foreign)', 'No Diversity\\n(Familiar)'], colors=['blue', 'blue'], yaxis= (-2, 8))\n"
   ]
  },
  {
   "cell_type": "markdown",
   "id": "8f7fd23f",
   "metadata": {},
   "source": [
    "# Tables"
   ]
  },
  {
   "cell_type": "code",
   "execution_count": null,
   "id": "86a17cd5",
   "metadata": {},
   "outputs": [],
   "source": [
    "def generate_latex_table(stat_test_function, case1_evolved_familiar, case2_evolved_familiar, case3_evolved_familiar, case1_random_foreign, case2_random_foreign, case3_random_foreign, alpha=0.05):\n",
    "    table = r\"\"\"\n",
    "\\begin{table}[htbp]\n",
    "    \\centering\n",
    "    \\begin{tabular}{l c c c}\n",
    "    \\toprule\n",
    "    Swarm Comparison & \\multicolumn{1}{c}{\\begin{tabular}{c}Evolution Resources\\\\(P x G)\\end{tabular}} & Environment & {p-value} \\\\\n",
    "    \\midrule\n",
    "    \"\"\"\n",
    "\n",
    "    # Helper function to add rows to the table\n",
    "    def add_row(comparison, resources, environment, p_value):\n",
    "        nonlocal table\n",
    "        table += f\"{comparison} & {resources} & {environment} & {p_value:.3e} \\\\\\\\\\n\"\n",
    "\n",
    "    # Perform T-tests and add rows to the table\n",
    "    add_row(\"Case 1 vs. Case 3\", \"10 x 75\", \"Foreign\", stat_test_function(case1_evolved_foreign, case3_evolved_foreign, 0.05/2))\n",
    "    add_row(\"Case 2 vs. Case 3\", \"10 x 75\", \"Foreign\", stat_test_function(case2_evolved_foreign, case3_evolved_foreign, 0.05/2))\n",
    "\n",
    "    table += r\"\"\"\n",
    "    \\bottomrule\n",
    "    \\end{tabular}\n",
    "    \\caption{Depicted are statistical comparisons between average swarm fitness between swarm types in the foreign environment. Swarm fitnesses were averaged over 55 trials. Each robot of a swarm utilized 10 parents and 75 generations for its evolution. Both comparisons revealed a statistically significant difference with a significance level of 0.025.}\n",
    "\\end{table}\n",
    "    \"\"\"\n",
    "\n",
    "    return table\n",
    "\n",
    "\n",
    "table1 = generate_latex_table(mann_whitney_u_test, case1_evolved_familiar, case2_evolved_familiar, case3_evolved_familiar, case1_evolved_familiar, case2_evolved_familiar, case3_evolved_familiar, alpha=0.05/2)\n",
    "\n",
    "print(table1)"
   ]
  },
  {
   "cell_type": "code",
   "execution_count": null,
   "id": "705a2c9b",
   "metadata": {},
   "outputs": [],
   "source": [
    "def generate_latex_table(stat_test_function, case1_evolved_familiar, case2_evolved_familiar, case3_evolved_familiar, case1_random_foreign, case2_random_foreign, case3_random_foreign, alpha=0.05):\n",
    "    table = r\"\"\"\n",
    "\\begin{table}[htbp]\n",
    "    \\centering\n",
    "    \\begin{tabular}{l c c c}\n",
    "    \\toprule\n",
    "    Swarm Comparison & Environment & {p-value} \\\\\n",
    "    \\midrule\n",
    "    \"\"\"\n",
    "\n",
    "    # Helper function to add rows to the table\n",
    "    def add_row(comparison, environment, p_value):\n",
    "        nonlocal table\n",
    "        table += f\"{comparison} & {environment} & {p_value:.3e} \\\\\\\\\\n\"\n",
    "\n",
    "    # Perform T-tests and add rows to the table\n",
    "    add_row(\"Case 1 (Evolved) vs. Case 1 (Random)\", \"Foreign\", stat_test_function(case1_evolved_foreign, case1_random_familiar, alpha))\n",
    "    add_row(\"Case 2 (Evolved) vs. Case 2 (Random)\", \"Foreign\", stat_test_function(case2_evolved_foreign, case2_random_familiar, alpha))\n",
    "    add_row(\"Case 3 (Evolved) vs. Case 3 (Random)\", \"Foreign\", stat_test_function(case3_evolved_foreign, case3_random_familiar, alpha))\n",
    "\n",
    "    table += r\"\"\"\n",
    "    \\bottomrule\n",
    "    \\end{tabular}\n",
    "    \\caption{Depicted are statistical comparisons of average swarm fitness between swarms of the same type in different environments with the same evolution resources. Each robot utilized 10 parents and 75 generations for its evolution. Swarm fitnesses were averaged over 30 trials. Each comparison revealed a statistically significant difference using a t-test with a significance level of 0.05}\n",
    "\\end{table}\n",
    "    \"\"\"\n",
    "\n",
    "    return table\n",
    "\n",
    "# Use MW-U here because random data is not normally distributed\n",
    "table1 = generate_latex_table(mann_whitney_u_test, case1_evolved_familiar, case2_evolved_familiar, case3_evolved_familiar, case1_evolved_familiar, case2_evolved_familiar, case3_evolved_familiar, alpha=0.05)\n",
    "print(table1)"
   ]
  },
  {
   "cell_type": "code",
   "execution_count": null,
   "id": "668bcbc7",
   "metadata": {},
   "outputs": [],
   "source": [
    "def generate_latex_table(stat_test_function, case1_evolved_familiar, case2_evolved_familiar, case3_evolved_familiar, case1_random_foreign, case2_random_foreign, case3_random_foreign, alpha=0.05):\n",
    "    table = r\"\"\"\n",
    "\\begin{table}[htbp]\n",
    "    \\centering\n",
    "    \\begin{tabular}{l c c c}\n",
    "    \\toprule\n",
    "    Swarm Comparison & \\multicolumn{1}{c}{\\begin{tabular}{c}Evolution Resources\\\\(P x G)\\end{tabular}} & {p-value} \\\\\n",
    "    \\midrule\n",
    "    \"\"\"\n",
    "\n",
    "    # Helper function to add rows to the table\n",
    "    def add_row(comparison, resources, p_value):\n",
    "        nonlocal table\n",
    "        table += f\"{comparison} & {resources} & {p_value:.3e} \\\\\\\\\\n\"\n",
    "\n",
    "    # Perform T-tests and add rows to the table\n",
    "    add_row(\"Case 1 (Foreign) vs. Case 1 (Familiar)\", \"10 x 75\", stat_test_function(case1_evolved_foreign, case1_evolved_familiar, alpha))\n",
    "    add_row(\"Case 2 (Foreign) vs. Case 2 (Familiar)\", \"10 x 75\", stat_test_function(case2_evolved_foreign, case2_evolved_familiar, alpha))\n",
    "    add_row(\"Case 3 (Foreign) vs. Case 3 (Familiar)\", \"10 x 75\", stat_test_function(case3_evolved_foreign, case3_evolved_familiar, alpha))\n",
    "\n",
    "    table += r\"\"\"\n",
    "    \\bottomrule\n",
    "    \\end{tabular}\n",
    "    \\caption{Statistical Comparisons between Evolved Swarms in Different Environments}\n",
    "\\end{table}\n",
    "    \"\"\"\n",
    "\n",
    "    return table\n",
    "\n",
    "table1 = generate_latex_table(mann_whitney_u_test, case1_evolved_familiar, case2_evolved_familiar, case3_evolved_familiar, case1_evolved_familiar, case2_evolved_familiar, case3_evolved_familiar, alpha=0.05)\n",
    "print(table1)"
   ]
  },
  {
   "cell_type": "code",
   "execution_count": null,
   "id": "cf65d3d0",
   "metadata": {},
   "outputs": [],
   "source": []
  }
 ],
 "metadata": {
  "kernelspec": {
   "display_name": "base",
   "language": "python",
   "name": "python3"
  },
  "language_info": {
   "codemirror_mode": {
    "name": "ipython",
    "version": 3
   },
   "file_extension": ".py",
   "mimetype": "text/x-python",
   "name": "python",
   "nbconvert_exporter": "python",
   "pygments_lexer": "ipython3",
   "version": "3.10.2"
  }
 },
 "nbformat": 4,
 "nbformat_minor": 5
}
